{
 "cells": [
  {
   "cell_type": "markdown",
   "metadata": {},
   "source": [
    "# Accessing Real-Life Comments from Social Media\n",
    "\n",
    "To access real-life comments on social media that could be used as test material, you can consider several approaches:\n",
    "\n",
    "1. **Twitter API**: Twitter provides APIs that allow you to scrape tweets based on specific hashtags, keywords, or user accounts. This can provide a rich dataset of real-time comments.\n",
    "   - [Twitter API Documentation](https://developer.twitter.com/en/docs)\n",
    "\n",
    "2. **Reddit API**: Reddit's API can be used to extract comments from various subreddits. This platform often contains detailed discussions on a wide range of topics.\n",
    "   - [Reddit API Documentation](https://www.reddit.com/dev/api/)\n",
    "\n",
    "3. **Facebook Graph API**: Although more restrictive due to privacy concerns, Facebook's Graph API can be used to gather public posts and comments.\n",
    "   - [Facebook Graph API Documentation](https://developers.facebook.com/docs/graph-api)\n",
    "\n",
    "4. **YouTube Data API**: This API allows you to fetch comments from YouTube videos, which can be useful for understanding public reactions to various types of content.\n",
    "   - [YouTube Data API Documentation](https://developers.google.com/youtube/v3/docs)\n",
    "\n",
    "5. **Comment Scraping Tools**: There are various tools and libraries available for scraping comments from social media platforms. For example:\n",
    "   - `snscrape` for Twitter\n",
    "   - `praw` for Reddit\n"
   ]
  },
  {
   "cell_type": "markdown",
   "metadata": {},
   "source": [
    "## Using Twitter API with Tweepy\n"
   ]
  },
  {
   "cell_type": "code",
   "metadata": {
    "id": "YUm0I7y_xhbv"
   },
   "source": [
    "import tweepy\n",
    "\n",
    "# Authenticate to Twitter\n",
    "consumer_key = 'your_consumer_key'\n",
    "consumer_secret = 'your_consumer_secret'\n",
    "access_token = 'your_access_token'\n",
    "access_token_secret = 'your_access_token_secret'\n",
    "\n",
    "auth = tweepy.OAuth1UserHandler(consumer_key, consumer_secret, access_token, access_token_secret)\n",
    "api = tweepy.API(auth)\n",
    "\n",
    "# Collect tweets\n",
    "tweets = api.search_tweets(q=\"your_keyword\", count=100)\n",
    "for tweet in tweets:\n",
    "    print(tweet.text)\n"
   ]
  },
  {
   "cell_type": "markdown",
   "metadata": {},
   "source": [
    "## Using Reddit API with PRAW\n"
   ]
  },
  {
   "cell_type": "code",
   "metadata": {
    "id": "7k7vBRf-yToO"
   },
   "source": [
    "import praw\n",
    "\n",
    "# Authenticate to Reddit\n",
    "reddit = praw.Reddit(client_id='your_client_id', client_secret='your_client_secret', user_agent='your_user_agent')\n",
    "\n",
    "# Collect comments\n",
    "subreddit = reddit.subreddit('your_subreddit')\n",
    "for comment in subreddit.comments(limit=100):\n",
    "    print(comment.body)\n"
   ]
  },
  {
   "cell_type": "markdown",
   "metadata": {},
   "source": [
    "## Using YouTube Data API\n"
   ]
  },
  {
   "cell_type": "code",
   "metadata": {
    "id": "pDFNjqGo_B_2"
   },
   "source": [
    "from googleapiclient.discovery import build\n",
    "\n",
    "# Authenticate to YouTube\n",
    "api_key = 'your_api_key'\n",
    "youtube = build('youtube', 'v3', developerKey=api_key)\n",
    "\n",
    "# Collect comments\n",
    "video_id = 'your_video_id'\n",
    "request = youtube.commentThreads().list(part='snippet', videoId=video_id, maxResults=100)\n",
    "response = request.execute()\n",
    "\n",
    "for item in response['items']:\n",
    "    print(item['snippet']['topLevelComment']['snippet']['textDisplay'])\n"
   ]
  },
  {
   "cell_type": "markdown",
   "metadata": {},
   "source": [
    "## Using `snscrape` for Twitter\n"
   ]
  },
  {
   "cell_type": "code",
   "metadata": {
    "id": "FzAe9LWo_3TD"
   },
   "source": [
    "import snscrape.modules.twitter as sntwitter\n",
    "\n",
    "# Collect tweets\n",
    "keyword = 'your_keyword'\n",
    "tweets = sntwitter.TwitterSearchScraper(keyword).get_items()\n",
    "for tweet in tweets:\n",
    "    print(tweet.content)\n"
   ]
  },
  {
   "cell_type": "markdown",
   "metadata": {},
   "source": [
    "These methods allow you to gather real-life comments from various social media platforms, which you can then use as test material for your models."
   ]
  }
 ],
 "metadata": {
  "kernelspec": {
   "display_name": "Python 3",
   "language": "python",
   "name": "python3"
  },
  "language_info": {
   "codemirror_mode": {
    "name": "ipython",
    "version": 3
   },
   "file_extension": ".py",
   "mimetype": "text/x-python",
   "name": "python",
   "nbconvert_exporter": "python",
   "pygments_lexer": "ipython3",
   "version": "3.8.8"
  }
 },
 "nbformat": 4,
 "nbformat_minor": 5
}
